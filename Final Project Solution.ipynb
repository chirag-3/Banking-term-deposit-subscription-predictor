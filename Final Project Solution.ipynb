{
 "cells": [
  {
   "cell_type": "code",
   "execution_count": 87,
   "id": "2dfaee54",
   "metadata": {},
   "outputs": [],
   "source": [
    "import pandas as pd\n",
    "import numpy as np\n",
    "import matplotlib.pyplot as plt"
   ]
  },
  {
   "cell_type": "markdown",
   "id": "563730f3",
   "metadata": {},
   "source": [
    "# reading the train and test datasets"
   ]
  },
  {
   "cell_type": "code",
   "execution_count": 88,
   "id": "9b46764d",
   "metadata": {},
   "outputs": [],
   "source": [
    "train = pd.read_csv('train.csv')\n",
    "test = pd.read_csv('test.csv')"
   ]
  },
  {
   "cell_type": "markdown",
   "id": "1d3b9177",
   "metadata": {},
   "source": [
    "# Analysing the datasets"
   ]
  },
  {
   "cell_type": "code",
   "execution_count": 89,
   "id": "9fb0786c",
   "metadata": {},
   "outputs": [
    {
     "data": {
      "text/plain": [
       "((31647, 18), (13564, 17))"
      ]
     },
     "execution_count": 89,
     "metadata": {},
     "output_type": "execute_result"
    }
   ],
   "source": [
    "train.shape,test.shape"
   ]
  },
  {
   "cell_type": "code",
   "execution_count": 90,
   "id": "22faf753",
   "metadata": {},
   "outputs": [
    {
     "data": {
      "text/plain": [
       "Index(['ID', 'age', 'job', 'marital', 'education', 'default', 'balance',\n",
       "       'housing', 'loan', 'contact', 'day', 'month', 'duration', 'campaign',\n",
       "       'pdays', 'previous', 'poutcome', 'subscribed'],\n",
       "      dtype='object')"
      ]
     },
     "execution_count": 90,
     "metadata": {},
     "output_type": "execute_result"
    }
   ],
   "source": [
    "train.columns"
   ]
  },
  {
   "cell_type": "code",
   "execution_count": 91,
   "id": "890ee3d3",
   "metadata": {},
   "outputs": [
    {
     "data": {
      "text/plain": [
       "Index(['ID', 'age', 'job', 'marital', 'education', 'default', 'balance',\n",
       "       'housing', 'loan', 'contact', 'day', 'month', 'duration', 'campaign',\n",
       "       'pdays', 'previous', 'poutcome'],\n",
       "      dtype='object')"
      ]
     },
     "execution_count": 91,
     "metadata": {},
     "output_type": "execute_result"
    }
   ],
   "source": [
    "test.columns"
   ]
  },
  {
   "cell_type": "markdown",
   "id": "dd2ef609",
   "metadata": {},
   "source": [
    "# Exploratory Data Analysis"
   ]
  },
  {
   "cell_type": "markdown",
   "id": "86d9bd8e",
   "metadata": {},
   "source": [
    "## Looking for missing values"
   ]
  },
  {
   "cell_type": "code",
   "execution_count": 92,
   "id": "f9996311",
   "metadata": {},
   "outputs": [
    {
     "data": {
      "text/plain": [
       "ID            0\n",
       "age           0\n",
       "job           0\n",
       "marital       0\n",
       "education     0\n",
       "default       0\n",
       "balance       0\n",
       "housing       0\n",
       "loan          0\n",
       "contact       0\n",
       "day           0\n",
       "month         0\n",
       "duration      0\n",
       "campaign      0\n",
       "pdays         0\n",
       "previous      0\n",
       "poutcome      0\n",
       "subscribed    0\n",
       "dtype: int64"
      ]
     },
     "execution_count": 92,
     "metadata": {},
     "output_type": "execute_result"
    }
   ],
   "source": [
    "train.isnull().sum()"
   ]
  },
  {
   "cell_type": "markdown",
   "id": "ebbd2b7d",
   "metadata": {},
   "source": [
    "There are no missing values in train dataset"
   ]
  },
  {
   "cell_type": "code",
   "execution_count": 93,
   "id": "36cfbf98",
   "metadata": {},
   "outputs": [
    {
     "data": {
      "text/plain": [
       "ID           0\n",
       "age          0\n",
       "job          0\n",
       "marital      0\n",
       "education    0\n",
       "default      0\n",
       "balance      0\n",
       "housing      0\n",
       "loan         0\n",
       "contact      0\n",
       "day          0\n",
       "month        0\n",
       "duration     0\n",
       "campaign     0\n",
       "pdays        0\n",
       "previous     0\n",
       "poutcome     0\n",
       "dtype: int64"
      ]
     },
     "execution_count": 93,
     "metadata": {},
     "output_type": "execute_result"
    }
   ],
   "source": [
    "test.isnull().sum()"
   ]
  },
  {
   "cell_type": "markdown",
   "id": "d6119b92",
   "metadata": {},
   "source": [
    "There are no missing values in test dataset"
   ]
  },
  {
   "cell_type": "code",
   "execution_count": 94,
   "id": "ab469413",
   "metadata": {},
   "outputs": [
    {
     "data": {
      "text/plain": [
       "ID             int64\n",
       "age            int64\n",
       "job           object\n",
       "marital       object\n",
       "education     object\n",
       "default       object\n",
       "balance        int64\n",
       "housing       object\n",
       "loan          object\n",
       "contact       object\n",
       "day            int64\n",
       "month         object\n",
       "duration       int64\n",
       "campaign       int64\n",
       "pdays          int64\n",
       "previous       int64\n",
       "poutcome      object\n",
       "subscribed    object\n",
       "dtype: object"
      ]
     },
     "execution_count": 94,
     "metadata": {},
     "output_type": "execute_result"
    }
   ],
   "source": [
    "train.dtypes"
   ]
  },
  {
   "cell_type": "code",
   "execution_count": 95,
   "id": "37323452",
   "metadata": {},
   "outputs": [
    {
     "data": {
      "text/plain": [
       "ID            int64\n",
       "age           int64\n",
       "job          object\n",
       "marital      object\n",
       "education    object\n",
       "default      object\n",
       "balance       int64\n",
       "housing      object\n",
       "loan         object\n",
       "contact      object\n",
       "day           int64\n",
       "month        object\n",
       "duration      int64\n",
       "campaign      int64\n",
       "pdays         int64\n",
       "previous      int64\n",
       "poutcome     object\n",
       "dtype: object"
      ]
     },
     "execution_count": 95,
     "metadata": {},
     "output_type": "execute_result"
    }
   ],
   "source": [
    "test.dtypes"
   ]
  },
  {
   "cell_type": "code",
   "execution_count": 96,
   "id": "f57f1dfe",
   "metadata": {},
   "outputs": [
    {
     "data": {
      "text/html": [
       "<div>\n",
       "<style scoped>\n",
       "    .dataframe tbody tr th:only-of-type {\n",
       "        vertical-align: middle;\n",
       "    }\n",
       "\n",
       "    .dataframe tbody tr th {\n",
       "        vertical-align: top;\n",
       "    }\n",
       "\n",
       "    .dataframe thead th {\n",
       "        text-align: right;\n",
       "    }\n",
       "</style>\n",
       "<table border=\"1\" class=\"dataframe\">\n",
       "  <thead>\n",
       "    <tr style=\"text-align: right;\">\n",
       "      <th></th>\n",
       "      <th>ID</th>\n",
       "      <th>age</th>\n",
       "      <th>job</th>\n",
       "      <th>marital</th>\n",
       "      <th>education</th>\n",
       "      <th>default</th>\n",
       "      <th>balance</th>\n",
       "      <th>housing</th>\n",
       "      <th>loan</th>\n",
       "      <th>contact</th>\n",
       "      <th>day</th>\n",
       "      <th>month</th>\n",
       "      <th>duration</th>\n",
       "      <th>campaign</th>\n",
       "      <th>pdays</th>\n",
       "      <th>previous</th>\n",
       "      <th>poutcome</th>\n",
       "      <th>subscribed</th>\n",
       "    </tr>\n",
       "  </thead>\n",
       "  <tbody>\n",
       "    <tr>\n",
       "      <th>0</th>\n",
       "      <td>26110</td>\n",
       "      <td>56</td>\n",
       "      <td>admin.</td>\n",
       "      <td>married</td>\n",
       "      <td>unknown</td>\n",
       "      <td>no</td>\n",
       "      <td>1933</td>\n",
       "      <td>no</td>\n",
       "      <td>no</td>\n",
       "      <td>telephone</td>\n",
       "      <td>19</td>\n",
       "      <td>nov</td>\n",
       "      <td>44</td>\n",
       "      <td>2</td>\n",
       "      <td>-1</td>\n",
       "      <td>0</td>\n",
       "      <td>unknown</td>\n",
       "      <td>no</td>\n",
       "    </tr>\n",
       "    <tr>\n",
       "      <th>1</th>\n",
       "      <td>40576</td>\n",
       "      <td>31</td>\n",
       "      <td>unknown</td>\n",
       "      <td>married</td>\n",
       "      <td>secondary</td>\n",
       "      <td>no</td>\n",
       "      <td>3</td>\n",
       "      <td>no</td>\n",
       "      <td>no</td>\n",
       "      <td>cellular</td>\n",
       "      <td>20</td>\n",
       "      <td>jul</td>\n",
       "      <td>91</td>\n",
       "      <td>2</td>\n",
       "      <td>-1</td>\n",
       "      <td>0</td>\n",
       "      <td>unknown</td>\n",
       "      <td>no</td>\n",
       "    </tr>\n",
       "    <tr>\n",
       "      <th>2</th>\n",
       "      <td>15320</td>\n",
       "      <td>27</td>\n",
       "      <td>services</td>\n",
       "      <td>married</td>\n",
       "      <td>secondary</td>\n",
       "      <td>no</td>\n",
       "      <td>891</td>\n",
       "      <td>yes</td>\n",
       "      <td>no</td>\n",
       "      <td>cellular</td>\n",
       "      <td>18</td>\n",
       "      <td>jul</td>\n",
       "      <td>240</td>\n",
       "      <td>1</td>\n",
       "      <td>-1</td>\n",
       "      <td>0</td>\n",
       "      <td>unknown</td>\n",
       "      <td>no</td>\n",
       "    </tr>\n",
       "    <tr>\n",
       "      <th>3</th>\n",
       "      <td>43962</td>\n",
       "      <td>57</td>\n",
       "      <td>management</td>\n",
       "      <td>divorced</td>\n",
       "      <td>tertiary</td>\n",
       "      <td>no</td>\n",
       "      <td>3287</td>\n",
       "      <td>no</td>\n",
       "      <td>no</td>\n",
       "      <td>cellular</td>\n",
       "      <td>22</td>\n",
       "      <td>jun</td>\n",
       "      <td>867</td>\n",
       "      <td>1</td>\n",
       "      <td>84</td>\n",
       "      <td>3</td>\n",
       "      <td>success</td>\n",
       "      <td>yes</td>\n",
       "    </tr>\n",
       "    <tr>\n",
       "      <th>4</th>\n",
       "      <td>29842</td>\n",
       "      <td>31</td>\n",
       "      <td>technician</td>\n",
       "      <td>married</td>\n",
       "      <td>secondary</td>\n",
       "      <td>no</td>\n",
       "      <td>119</td>\n",
       "      <td>yes</td>\n",
       "      <td>no</td>\n",
       "      <td>cellular</td>\n",
       "      <td>4</td>\n",
       "      <td>feb</td>\n",
       "      <td>380</td>\n",
       "      <td>1</td>\n",
       "      <td>-1</td>\n",
       "      <td>0</td>\n",
       "      <td>unknown</td>\n",
       "      <td>no</td>\n",
       "    </tr>\n",
       "  </tbody>\n",
       "</table>\n",
       "</div>"
      ],
      "text/plain": [
       "      ID  age         job   marital  education default  balance housing loan  \\\n",
       "0  26110   56      admin.   married    unknown      no     1933      no   no   \n",
       "1  40576   31     unknown   married  secondary      no        3      no   no   \n",
       "2  15320   27    services   married  secondary      no      891     yes   no   \n",
       "3  43962   57  management  divorced   tertiary      no     3287      no   no   \n",
       "4  29842   31  technician   married  secondary      no      119     yes   no   \n",
       "\n",
       "     contact  day month  duration  campaign  pdays  previous poutcome  \\\n",
       "0  telephone   19   nov        44         2     -1         0  unknown   \n",
       "1   cellular   20   jul        91         2     -1         0  unknown   \n",
       "2   cellular   18   jul       240         1     -1         0  unknown   \n",
       "3   cellular   22   jun       867         1     84         3  success   \n",
       "4   cellular    4   feb       380         1     -1         0  unknown   \n",
       "\n",
       "  subscribed  \n",
       "0         no  \n",
       "1         no  \n",
       "2         no  \n",
       "3        yes  \n",
       "4         no  "
      ]
     },
     "execution_count": 96,
     "metadata": {},
     "output_type": "execute_result"
    }
   ],
   "source": [
    "train.head()"
   ]
  },
  {
   "cell_type": "markdown",
   "id": "a7b6b213",
   "metadata": {},
   "source": [
    "We can intutively say that the \"ID\" column will have no impact on the \"Subscribed\" column, so we can remove the \"ID\" column.\n",
    "\n"
   ]
  },
  {
   "cell_type": "code",
   "execution_count": 97,
   "id": "ad04b090",
   "metadata": {},
   "outputs": [],
   "source": [
    "train.drop([\"ID\"],axis=1,inplace=True)\n",
    "test.drop([\"ID\"],axis=1,inplace=True)"
   ]
  },
  {
   "cell_type": "code",
   "execution_count": 98,
   "id": "0186c87a",
   "metadata": {},
   "outputs": [
    {
     "data": {
      "text/plain": [
       "((31647, 17), (13564, 16))"
      ]
     },
     "execution_count": 98,
     "metadata": {},
     "output_type": "execute_result"
    }
   ],
   "source": [
    "train.shape,test.shape"
   ]
  },
  {
   "cell_type": "markdown",
   "id": "fb7c47c6",
   "metadata": {},
   "source": [
    "## Features with One value"
   ]
  },
  {
   "cell_type": "markdown",
   "id": "28267316",
   "metadata": {},
   "source": [
    "Now we are going to look for features with only one value because such features will havew no impact on our target variable "
   ]
  },
  {
   "cell_type": "code",
   "execution_count": 99,
   "id": "effbe6ed",
   "metadata": {},
   "outputs": [
    {
     "name": "stdout",
     "output_type": "stream",
     "text": [
      "age  has  76  unique values\n",
      "job  has  12  unique values\n",
      "marital  has  3  unique values\n",
      "education  has  4  unique values\n",
      "default  has  2  unique values\n",
      "balance  has  6326  unique values\n",
      "housing  has  2  unique values\n",
      "loan  has  2  unique values\n",
      "contact  has  3  unique values\n",
      "day  has  31  unique values\n",
      "month  has  12  unique values\n",
      "duration  has  1454  unique values\n",
      "campaign  has  45  unique values\n",
      "pdays  has  509  unique values\n",
      "previous  has  38  unique values\n",
      "poutcome  has  4  unique values\n",
      "subscribed  has  2  unique values\n"
     ]
    }
   ],
   "source": [
    "for c in train.columns:\n",
    "    print(c,\" has \",train[c].nunique(),\" unique values\")"
   ]
  },
  {
   "cell_type": "markdown",
   "id": "5df17581",
   "metadata": {},
   "source": [
    "We can see that our dataset has no features with only one unique value, so we cannot drop any columns on that basis"
   ]
  },
  {
   "cell_type": "markdown",
   "id": "87fed2b9",
   "metadata": {},
   "source": [
    "## Exploring Catgorical features with respect to target variable"
   ]
  },
  {
   "cell_type": "markdown",
   "id": "545aeb2b",
   "metadata": {},
   "source": [
    "First getting a list of all the categorical features"
   ]
  },
  {
   "cell_type": "code",
   "execution_count": 100,
   "id": "e3e93ea0",
   "metadata": {},
   "outputs": [],
   "source": [
    "categoricalFeatures = list()\n",
    "\n",
    "for feature in train.columns :\n",
    "    if train[feature].dtypes =='O' :\n",
    "        categoricalFeatures.append(feature)"
   ]
  },
  {
   "cell_type": "code",
   "execution_count": 101,
   "id": "f1bcd800",
   "metadata": {},
   "outputs": [
    {
     "name": "stdout",
     "output_type": "stream",
     "text": [
      "['job', 'marital', 'education', 'default', 'housing', 'loan', 'contact', 'month', 'poutcome', 'subscribed']\n"
     ]
    }
   ],
   "source": [
    "print(categoricalFeatures)"
   ]
  },
  {
   "cell_type": "raw",
   "id": "e2504515",
   "metadata": {},
   "source": [
    "We do not want subscribed to be in this list because it is our target variable. So we will removeit from this list"
   ]
  },
  {
   "cell_type": "code",
   "execution_count": 102,
   "id": "f295813c",
   "metadata": {},
   "outputs": [
    {
     "data": {
      "text/plain": [
       "'subscribed'"
      ]
     },
     "execution_count": 102,
     "metadata": {},
     "output_type": "execute_result"
    }
   ],
   "source": [
    "categoricalFeatures.pop()"
   ]
  },
  {
   "cell_type": "code",
   "execution_count": 103,
   "id": "daeae34b",
   "metadata": {},
   "outputs": [
    {
     "name": "stdout",
     "output_type": "stream",
     "text": [
      "['job', 'marital', 'education', 'default', 'housing', 'loan', 'contact', 'month', 'poutcome']\n"
     ]
    }
   ],
   "source": [
    "print(categoricalFeatures)"
   ]
  },
  {
   "cell_type": "code",
   "execution_count": 104,
   "id": "eb702d28",
   "metadata": {},
   "outputs": [
    {
     "data": {
      "image/png": "[encoded data removed]",
      "text/plain": [
       "<Figure size 4320x360 with 12 Axes>"
      ]
     },
     "metadata": {
      "needs_background": "light"
     },
     "output_type": "display_data"
    },
    {
     "data": {
      "image/png": "[encoded data removed]",
      "text/plain": [
       "<Figure size 1080x360 with 3 Axes>"
      ]
     },
     "metadata": {
      "needs_background": "light"
     },
     "output_type": "display_data"
    },
    {
     "data": {
      "image/png": "[encoded data removed]",
      "text/plain": [
       "<Figure size 1440x360 with 4 Axes>"
      ]
     },
     "metadata": {
      "needs_background": "light"
     },
     "output_type": "display_data"
    },
    {
     "data": {
      "image/png": "[encoded data removed]",
      "text/plain": [
       "<Figure size 720x360 with 2 Axes>"
      ]
     },
     "metadata": {
      "needs_background": "light"
     },
     "output_type": "display_data"
    },
    {
     "data": {
      "image/png": "[encoded data removed]",
      "text/plain": [
       "<Figure size 720x360 with 2 Axes>"
      ]
     },
     "metadata": {
      "needs_background": "light"
     },
     "output_type": "display_data"
    },
    {
     "data": {
      "image/png": "[encoded data removed]",
      "text/plain": [
       "<Figure size 720x360 with 2 Axes>"
      ]
     },
     "metadata": {
      "needs_background": "light"
     },
     "output_type": "display_data"
    },
    {
     "data": {
      "image/png": "[encoded data removed]",
      "text/plain": [
       "<Figure size 1080x360 with 3 Axes>"
      ]
     },
     "metadata": {
      "needs_background": "light"
     },
     "output_type": "display_data"
    },
    {
     "data": {
      "image/png": "[encoded data removed]",
      "text/plain": [
       "<Figure size 4320x360 with 12 Axes>"
      ]
     },
     "metadata": {
      "needs_background": "light"
     },
     "output_type": "display_data"
    },
    {
     "data": {
      "image/png": "[encoded data removed]",
      "text/plain": [
       "<Figure size 1440x360 with 4 Axes>"
      ]
     },
     "metadata": {
      "needs_background": "light"
     },
     "output_type": "display_data"
    }
   ],
   "source": [
    "import seaborn as sns\n",
    "for f in categoricalFeatures:\n",
    "    sns.catplot(x='subscribed', col=f, kind='count', data= train)\n",
    "plt.show()\n",
    "# sns.catplot(x='subscribed', col='job', kind='count', data= train)    "
   ]
  },
  {
   "cell_type": "markdown",
   "id": "0db6e862",
   "metadata": {},
   "source": [
    "Our conclusions from the above are as follows :\n",
    "    If we look at 'job' variable then we have contacted a lot of people from 'management' field and a lot of them have also subscribed in comparison to other job profiles.\n",
    "    Then we can see that a lot of tecnicians have also subscribed ans in comparison to other jobs a more tecnicians were contacted\n",
    "    The hihghest numebr of contacts were made to people with \"blue-collar\" jobs but in comparison to \"management and \"technician\" the number who ultimately subscribed to a term deposit is less\n",
    "    Far less admins were contacted in comaparison to \"blue-collar\" but the number subsctibed is almost the same.\n",
    "    \n",
    "    Based on the above observations we can say that we should focus more on contacting \"managment\", \"technician\" and \n",
    "    \"admins\" as compared to \"blue-collar\"\n",
    "    \n",
    "    \n",
    " Mostly married people were contacted and less divorced people were contacted. Amny many people have sibscribed, and less divorced people have subscribed , but we can see many single people have also subscribed. \n",
    "    \n",
    "    We should try from next time to contact more single people.\n",
    "\n",
    "    In terms of education we should try contacting people with tertiary education more as they have turned out to subscribe     more percentage of times than compared to others \n",
    "    \n",
    "     The people who have already default on some loan are very less likely to subscribe to a term deposit.\n",
    "\n",
    "We can see people who do not have any housing loan are more likely to subscibe to term deposit, but less of them have been contacted as compared to people with housing loan.\n",
    "       \n",
    "       So we shoukd truy contacting more people with no housing loan\n",
    "      \n",
    "       For peosonal loans also peolple with no personal loan are more likely to subscibr to term deposit\n",
    "       \n",
    "        We can cleraly see that if cellular contact is done then the chances are more for people to subscibe to term deposit\n",
    "        \n",
    "        In months we should try to do more contacts in month of August\n",
    "        \n",
    "        If the poutcome is success then there are high chances for sople to subscibe to term deposit\n",
    "     \n",
    "\n",
    "    "
   ]
  },
  {
   "cell_type": "markdown",
   "id": "77be6596",
   "metadata": {},
   "source": [
    "# Exploring Numerical variables with respect to Target Variable"
   ]
  },
  {
   "cell_type": "code",
   "execution_count": 105,
   "id": "a789038a",
   "metadata": {},
   "outputs": [],
   "source": [
    "numericalFeatures = list()\n",
    "\n",
    "for feature in train.columns :\n",
    "    if train[feature].dtypes !='O' :\n",
    "        numericalFeatures.append(feature)"
   ]
  },
  {
   "cell_type": "code",
   "execution_count": 106,
   "id": "3144f8a8",
   "metadata": {},
   "outputs": [
    {
     "name": "stdout",
     "output_type": "stream",
     "text": [
      "['age', 'balance', 'day', 'duration', 'campaign', 'pdays', 'previous']\n"
     ]
    }
   ],
   "source": [
    "print(numericalFeatures)"
   ]
  },
  {
   "cell_type": "markdown",
   "id": "1e694082",
   "metadata": {},
   "source": [
    "## Distribution of numerical Varibales"
   ]
  },
  {
   "cell_type": "code",
   "execution_count": 107,
   "id": "646889a5",
   "metadata": {},
   "outputs": [
    {
     "data": {
      "image/png": "[encoded data removed]",
      "text/plain": [
       "<Figure size 360x360 with 1 Axes>"
      ]
     },
     "metadata": {
      "needs_background": "light"
     },
     "output_type": "display_data"
    },
    {
     "data": {
      "image/png": "[encoded data removed]",
      "text/plain": [
       "<Figure size 360x360 with 1 Axes>"
      ]
     },
     "metadata": {
      "needs_background": "light"
     },
     "output_type": "display_data"
    },
    {
     "data": {
      "image/png": "[encoded data removed]",
      "text/plain": [
       "<Figure size 360x360 with 1 Axes>"
      ]
     },
     "metadata": {
      "needs_background": "light"
     },
     "output_type": "display_data"
    },
    {
     "data": {
      "image/png": "[encoded data removed]",
      "text/plain": [
       "<Figure size 360x360 with 1 Axes>"
      ]
     },
     "metadata": {
      "needs_background": "light"
     },
     "output_type": "display_data"
    },
    {
     "data": {
      "image/png": "[encoded data removed]",
      "text/plain": [
       "<Figure size 360x360 with 1 Axes>"
      ]
     },
     "metadata": {
      "needs_background": "light"
     },
     "output_type": "display_data"
    },
    {
     "data": {
      "image/png": "[encoded data removed]",
      "text/plain": [
       "<Figure size 360x360 with 1 Axes>"
      ]
     },
     "metadata": {
      "needs_background": "light"
     },
     "output_type": "display_data"
    },
    {
     "data": {
      "image/png": "[encoded data removed]",
      "text/plain": [
       "<Figure size 360x360 with 1 Axes>"
      ]
     },
     "metadata": {
      "needs_background": "light"
     },
     "output_type": "display_data"
    }
   ],
   "source": [
    "# plt.figure(figsize=(20,60), facecolor='white')\n",
    "# plotnumber =1\n",
    "for f in numericalFeatures:\n",
    "#     ax = plt.subplot(12,3,plotnumber)\n",
    "    sns.displot(train[f])\n",
    "    plt.xlabel(f)\n",
    "#     plotnumber+=1\n",
    "    plt.show()"
   ]
  },
  {
   "cell_type": "markdown",
   "id": "47b325af",
   "metadata": {},
   "source": [
    "Age and days appear to be normally distrubuted others are skewed"
   ]
  },
  {
   "cell_type": "code",
   "execution_count": 108,
   "id": "4a8c86e3",
   "metadata": {},
   "outputs": [
    {
     "name": "stdout",
     "output_type": "stream",
     "text": [
      " maximum age is :  95\n",
      " minimum age is :  18\n"
     ]
    }
   ],
   "source": [
    "print(\" maximum age is : \",train['age'].max())\n",
    "print(\" minimum age is : \",train['age'].min())"
   ]
  },
  {
   "cell_type": "markdown",
   "id": "ddb225e2",
   "metadata": {},
   "source": [
    "### making age wise subscibtion status distionary"
   ]
  },
  {
   "cell_type": "code",
   "execution_count": 109,
   "id": "5c96045c",
   "metadata": {},
   "outputs": [],
   "source": [
    "ageWiseSubscription = {}\n",
    "ageWiseSubscription[\"10-20\"] = [0,0,None]\n",
    "ageWiseSubscription[\"20-30\"] = [0,0,None]\n",
    "ageWiseSubscription[\"30-40\"] = [0,0,None]\n",
    "ageWiseSubscription[\"40-50\"] = [0,0,None]\n",
    "ageWiseSubscription[\"50-60\"] = [0,0,None]\n",
    "ageWiseSubscription[\"60-70\"] = [0,0,None]\n",
    "ageWiseSubscription[\"70-80\"] = [0,0,None]\n",
    "ageWiseSubscription[\"80-90\"] = [0,0,None]\n",
    "ageWiseSubscription[\"90-100\"] = [0,0,None]"
   ]
  },
  {
   "cell_type": "code",
   "execution_count": 110,
   "id": "4d9fab96",
   "metadata": {},
   "outputs": [],
   "source": [
    "for i in train.index:\n",
    "    a = train['age'][i]\n",
    "    s = train['subscribed'][i]\n",
    "#     print(a,s)\n",
    "    if a>10 and a<=20 :\n",
    "        ageWiseSubscription[\"10-20\"][0]+=1\n",
    "        if s==\"yes\":\n",
    "         ageWiseSubscription[\"10-20\"][1]+=1\n",
    "    if a>20 and a<=30 :\n",
    "        ageWiseSubscription[\"20-30\"][0]+=1\n",
    "        if s==\"yes\":\n",
    "         ageWiseSubscription[\"20-30\"][1]+=1\n",
    "    if a>30 and a<=40 :\n",
    "        ageWiseSubscription[\"30-40\"][0]+=1\n",
    "        if s==\"yes\":\n",
    "         ageWiseSubscription[\"30-40\"][1]+=1\n",
    "    if a>40 and a<=50 :\n",
    "        ageWiseSubscription[\"40-50\"][0]+=1\n",
    "        if s==\"yes\":\n",
    "         ageWiseSubscription[\"40-50\"][1]+=1\n",
    "    if a>50 and a<=60 :\n",
    "        ageWiseSubscription[\"50-60\"][0]+=1\n",
    "        if s==\"yes\":\n",
    "         ageWiseSubscription[\"50-60\"][1]+=1\n",
    "    if a>60 and a<=70 :\n",
    "        ageWiseSubscription[\"60-70\"][0]+=1\n",
    "        if s==\"yes\":\n",
    "         ageWiseSubscription[\"60-70\"][1]+=1\n",
    "    if a>70 and a<=80 :\n",
    "        ageWiseSubscription[\"70-80\"][0]+=1\n",
    "        if s==\"yes\" :\n",
    "         ageWiseSubscription[\"70-80\"][1]+=1\n",
    "    if a>80 and a<=90 :\n",
    "        ageWiseSubscription[\"80-90\"][0]+=1\n",
    "        if s==\"yes\" :\n",
    "         ageWiseSubscription[\"80-90\"][1]+=1  \n",
    "    if a>90 and a<=100 :\n",
    "        ageWiseSubscription[\"90-100\"][0]+=1\n",
    "        if s==\"yes\" :\n",
    "          ageWiseSubscription[\"90-100\"][1]+=1  \n",
    "\n",
    "            "
   ]
  },
  {
   "cell_type": "code",
   "execution_count": 111,
   "id": "8285a8b4",
   "metadata": {},
   "outputs": [
    {
     "name": "stdout",
     "output_type": "stream",
     "text": [
      "10-20 [69, 26, None]\n",
      "20-30 [4845, 766, None]\n",
      "30-40 [12365, 1271, None]\n",
      "40-50 [7845, 732, None]\n",
      "50-60 [5698, 576, None]\n",
      "60-70 [476, 197, None]\n",
      "70-80 [281, 122, None]\n",
      "80-90 [64, 22, None]\n",
      "90-100 [4, 3, None]\n"
     ]
    }
   ],
   "source": [
    "for i in ageWiseSubscription.keys() :\n",
    "    print(i,ageWiseSubscription[i])"
   ]
  },
  {
   "cell_type": "code",
   "execution_count": 112,
   "id": "e95d6add",
   "metadata": {},
   "outputs": [
    {
     "name": "stdout",
     "output_type": "stream",
     "text": [
      "10-20 [69, 26, 0.37681159420289856]\n",
      "20-30 [4845, 766, 0.15810113519091848]\n",
      "30-40 [12365, 1271, 0.10279013344116458]\n",
      "40-50 [7845, 732, 0.09330783938814531]\n",
      "50-60 [5698, 576, 0.10108810108810108]\n",
      "60-70 [476, 197, 0.41386554621848737]\n",
      "70-80 [281, 122, 0.43416370106761565]\n",
      "80-90 [64, 22, 0.34375]\n",
      "90-100 [4, 3, 0.75]\n"
     ]
    }
   ],
   "source": [
    "ageGroup = []\n",
    "subPer = []\n",
    "for i in ageWiseSubscription.keys():\n",
    "    ageWiseSubscription[i][2] = ageWiseSubscription[i][1]/ageWiseSubscription[i][0]\n",
    "    ageGroup.append(i)\n",
    "    subPer.append(ageWiseSubscription[i][2])\n",
    "    print(i,ageWiseSubscription[i])"
   ]
  },
  {
   "cell_type": "markdown",
   "id": "95c5eaf9",
   "metadata": {},
   "source": [
    "## Graph of percentage subscribed per age group "
   ]
  },
  {
   "cell_type": "code",
   "execution_count": 113,
   "id": "7d76866e",
   "metadata": {},
   "outputs": [
    {
     "data": {
      "image/png": "[encoded data removed]",
      "text/plain": [
       "<Figure size 432x288 with 1 Axes>"
      ]
     },
     "metadata": {
      "needs_background": "light"
     },
     "output_type": "display_data"
    }
   ],
   "source": [
    "\n",
    "# creating the bar plot\n",
    "plt.bar(ageGroup, subPer, color ='maroon',\n",
    "        width = 0.4)\n",
    " \n",
    "plt.xlabel(\"Age groups\")\n",
    "plt.ylabel(\"Fraction subscribed\")\n",
    "plt.title(\"Fraction subscribed per age group\")\n",
    "plt.show()"
   ]
  },
  {
   "cell_type": "markdown",
   "id": "1e51798c",
   "metadata": {},
   "source": [
    "We can clearly see from the above graph that people of ages above 60 are more likely to subscibe to term deposits.\n",
    "       Hence we should contact more of them"
   ]
  },
  {
   "cell_type": "code",
   "execution_count": 114,
   "id": "9f3c5763",
   "metadata": {},
   "outputs": [
    {
     "data": {
      "text/html": [
       "<div>\n",
       "<style scoped>\n",
       "    .dataframe tbody tr th:only-of-type {\n",
       "        vertical-align: middle;\n",
       "    }\n",
       "\n",
       "    .dataframe tbody tr th {\n",
       "        vertical-align: top;\n",
       "    }\n",
       "\n",
       "    .dataframe thead th {\n",
       "        text-align: right;\n",
       "    }\n",
       "</style>\n",
       "<table border=\"1\" class=\"dataframe\">\n",
       "  <thead>\n",
       "    <tr style=\"text-align: right;\">\n",
       "      <th></th>\n",
       "      <th>age</th>\n",
       "      <th>balance</th>\n",
       "      <th>day</th>\n",
       "      <th>duration</th>\n",
       "      <th>campaign</th>\n",
       "      <th>pdays</th>\n",
       "      <th>previous</th>\n",
       "    </tr>\n",
       "  </thead>\n",
       "  <tbody>\n",
       "    <tr>\n",
       "      <th>count</th>\n",
       "      <td>31647.000000</td>\n",
       "      <td>31647.000000</td>\n",
       "      <td>31647.000000</td>\n",
       "      <td>31647.000000</td>\n",
       "      <td>31647.000000</td>\n",
       "      <td>31647.000000</td>\n",
       "      <td>31647.000000</td>\n",
       "    </tr>\n",
       "    <tr>\n",
       "      <th>mean</th>\n",
       "      <td>40.957247</td>\n",
       "      <td>1363.890258</td>\n",
       "      <td>15.835466</td>\n",
       "      <td>258.113534</td>\n",
       "      <td>2.765697</td>\n",
       "      <td>39.576042</td>\n",
       "      <td>0.574272</td>\n",
       "    </tr>\n",
       "    <tr>\n",
       "      <th>std</th>\n",
       "      <td>10.625134</td>\n",
       "      <td>3028.304293</td>\n",
       "      <td>8.337097</td>\n",
       "      <td>257.118973</td>\n",
       "      <td>3.113830</td>\n",
       "      <td>99.317592</td>\n",
       "      <td>2.422529</td>\n",
       "    </tr>\n",
       "    <tr>\n",
       "      <th>min</th>\n",
       "      <td>18.000000</td>\n",
       "      <td>-8019.000000</td>\n",
       "      <td>1.000000</td>\n",
       "      <td>0.000000</td>\n",
       "      <td>1.000000</td>\n",
       "      <td>-1.000000</td>\n",
       "      <td>0.000000</td>\n",
       "    </tr>\n",
       "    <tr>\n",
       "      <th>25%</th>\n",
       "      <td>33.000000</td>\n",
       "      <td>73.000000</td>\n",
       "      <td>8.000000</td>\n",
       "      <td>104.000000</td>\n",
       "      <td>1.000000</td>\n",
       "      <td>-1.000000</td>\n",
       "      <td>0.000000</td>\n",
       "    </tr>\n",
       "    <tr>\n",
       "      <th>50%</th>\n",
       "      <td>39.000000</td>\n",
       "      <td>450.000000</td>\n",
       "      <td>16.000000</td>\n",
       "      <td>180.000000</td>\n",
       "      <td>2.000000</td>\n",
       "      <td>-1.000000</td>\n",
       "      <td>0.000000</td>\n",
       "    </tr>\n",
       "    <tr>\n",
       "      <th>75%</th>\n",
       "      <td>48.000000</td>\n",
       "      <td>1431.000000</td>\n",
       "      <td>21.000000</td>\n",
       "      <td>318.500000</td>\n",
       "      <td>3.000000</td>\n",
       "      <td>-1.000000</td>\n",
       "      <td>0.000000</td>\n",
       "    </tr>\n",
       "    <tr>\n",
       "      <th>max</th>\n",
       "      <td>95.000000</td>\n",
       "      <td>102127.000000</td>\n",
       "      <td>31.000000</td>\n",
       "      <td>4918.000000</td>\n",
       "      <td>63.000000</td>\n",
       "      <td>871.000000</td>\n",
       "      <td>275.000000</td>\n",
       "    </tr>\n",
       "  </tbody>\n",
       "</table>\n",
       "</div>"
      ],
      "text/plain": [
       "                age        balance           day      duration      campaign  \\\n",
       "count  31647.000000   31647.000000  31647.000000  31647.000000  31647.000000   \n",
       "mean      40.957247    1363.890258     15.835466    258.113534      2.765697   \n",
       "std       10.625134    3028.304293      8.337097    257.118973      3.113830   \n",
       "min       18.000000   -8019.000000      1.000000      0.000000      1.000000   \n",
       "25%       33.000000      73.000000      8.000000    104.000000      1.000000   \n",
       "50%       39.000000     450.000000     16.000000    180.000000      2.000000   \n",
       "75%       48.000000    1431.000000     21.000000    318.500000      3.000000   \n",
       "max       95.000000  102127.000000     31.000000   4918.000000     63.000000   \n",
       "\n",
       "              pdays      previous  \n",
       "count  31647.000000  31647.000000  \n",
       "mean      39.576042      0.574272  \n",
       "std       99.317592      2.422529  \n",
       "min       -1.000000      0.000000  \n",
       "25%       -1.000000      0.000000  \n",
       "50%       -1.000000      0.000000  \n",
       "75%       -1.000000      0.000000  \n",
       "max      871.000000    275.000000  "
      ]
     },
     "execution_count": 114,
     "metadata": {},
     "output_type": "execute_result"
    }
   ],
   "source": [
    "train.describe()"
   ]
  },
  {
   "cell_type": "code",
   "execution_count": 115,
   "id": "f52e1a99",
   "metadata": {},
   "outputs": [
    {
     "data": {
      "text/plain": [
       "-1      25924\n",
       " 182      118\n",
       " 92       100\n",
       " 91        87\n",
       " 183       85\n",
       "        ...  \n",
       " 51         1\n",
       " 20         1\n",
       " 25         1\n",
       " 526        1\n",
       " 382        1\n",
       "Name: pdays, Length: 509, dtype: int64"
      ]
     },
     "execution_count": 115,
     "metadata": {},
     "output_type": "execute_result"
    }
   ],
   "source": [
    "train['pdays'].value_counts()"
   ]
  },
  {
   "cell_type": "markdown",
   "id": "dd7115b7",
   "metadata": {},
   "source": [
    "As most of the pdays values are -1, hence we will drop pdays"
   ]
  },
  {
   "cell_type": "code",
   "execution_count": 116,
   "id": "dc4ba623",
   "metadata": {},
   "outputs": [
    {
     "name": "stdout",
     "output_type": "stream",
     "text": [
      "(31647, 17) (13564, 16)\n",
      "(31647, 16) (13564, 15)\n"
     ]
    }
   ],
   "source": [
    "print(train.shape,test.shape)\n",
    "train.drop(['pdays'],axis=1,inplace=True)\n",
    "test.drop(['pdays'],axis=1,inplace=True)\n",
    "print(train.shape,test.shape)\n"
   ]
  },
  {
   "cell_type": "code",
   "execution_count": 117,
   "id": "845da434",
   "metadata": {},
   "outputs": [],
   "source": [
    "numericalFeatures.remove('pdays')"
   ]
  },
  {
   "cell_type": "markdown",
   "id": "3bd64464",
   "metadata": {},
   "source": [
    "## Looking for outliers in numerical features "
   ]
  },
  {
   "cell_type": "code",
   "execution_count": 118,
   "id": "04a78968",
   "metadata": {},
   "outputs": [
    {
     "name": "stderr",
     "output_type": "stream",
     "text": [
      "C:\\Users\\chira\\anaconda3\\lib\\site-packages\\seaborn\\_decorators.py:36: FutureWarning: Pass the following variable as a keyword arg: x. From version 0.12, the only valid positional argument will be `data`, and passing other arguments without an explicit keyword will result in an error or misinterpretation.\n",
      "  warnings.warn(\n",
      "C:\\Users\\chira\\anaconda3\\lib\\site-packages\\seaborn\\_decorators.py:36: FutureWarning: Pass the following variable as a keyword arg: x. From version 0.12, the only valid positional argument will be `data`, and passing other arguments without an explicit keyword will result in an error or misinterpretation.\n",
      "  warnings.warn(\n",
      "C:\\Users\\chira\\anaconda3\\lib\\site-packages\\seaborn\\_decorators.py:36: FutureWarning: Pass the following variable as a keyword arg: x. From version 0.12, the only valid positional argument will be `data`, and passing other arguments without an explicit keyword will result in an error or misinterpretation.\n",
      "  warnings.warn(\n",
      "C:\\Users\\chira\\anaconda3\\lib\\site-packages\\seaborn\\_decorators.py:36: FutureWarning: Pass the following variable as a keyword arg: x. From version 0.12, the only valid positional argument will be `data`, and passing other arguments without an explicit keyword will result in an error or misinterpretation.\n",
      "  warnings.warn(\n",
      "C:\\Users\\chira\\anaconda3\\lib\\site-packages\\seaborn\\_decorators.py:36: FutureWarning: Pass the following variable as a keyword arg: x. From version 0.12, the only valid positional argument will be `data`, and passing other arguments without an explicit keyword will result in an error or misinterpretation.\n",
      "  warnings.warn(\n",
      "C:\\Users\\chira\\anaconda3\\lib\\site-packages\\seaborn\\_decorators.py:36: FutureWarning: Pass the following variable as a keyword arg: x. From version 0.12, the only valid positional argument will be `data`, and passing other arguments without an explicit keyword will result in an error or misinterpretation.\n",
      "  warnings.warn(\n"
     ]
    },
    {
     "data": {
      "image/png": "[encoded data removed]",
      "text/plain": [
       "<Figure size 1440x4320 with 6 Axes>"
      ]
     },
     "metadata": {},
     "output_type": "display_data"
    }
   ],
   "source": [
    "plt.figure(figsize=(20,60), facecolor='white')\n",
    "plotnumber =1\n",
    "for f in numericalFeatures:\n",
    "    ax = plt.subplot(12,3,plotnumber)\n",
    "    sns.boxplot(train[f])\n",
    "    plt.xlabel(f)\n",
    "    plotnumber+=1\n",
    "plt.show()"
   ]
  },
  {
   "cell_type": "markdown",
   "id": "27447680",
   "metadata": {},
   "source": [
    "We are not going to remove any outliers from 'age' because they just represent people with more age it cannot be seen as an data entry or recording error\n",
    "\n"
   ]
  },
  {
   "cell_type": "markdown",
   "id": "ae67b22d",
   "metadata": {},
   "source": [
    "## Removing some of the Outliers"
   ]
  },
  {
   "cell_type": "code",
   "execution_count": 119,
   "id": "1f491de4",
   "metadata": {},
   "outputs": [],
   "source": [
    "train = train[train['duration']<3000]\n",
    "train = train[train['campaign']<35]\n",
    "train = train[train['previous']<50]"
   ]
  },
  {
   "cell_type": "code",
   "execution_count": 120,
   "id": "9e954cd9",
   "metadata": {},
   "outputs": [
    {
     "data": {
      "text/plain": [
       "(31617, 16)"
      ]
     },
     "execution_count": 120,
     "metadata": {},
     "output_type": "execute_result"
    }
   ],
   "source": [
    "train.shape"
   ]
  },
  {
   "cell_type": "code",
   "execution_count": 121,
   "id": "4cec2fd6",
   "metadata": {},
   "outputs": [],
   "source": [
    "temp = pd.get_dummies(train,columns=categoricalFeatures)"
   ]
  },
  {
   "cell_type": "code",
   "execution_count": 122,
   "id": "c6c842d4",
   "metadata": {},
   "outputs": [
    {
     "data": {
      "text/plain": [
       "Index(['age', 'balance', 'day', 'duration', 'campaign', 'previous',\n",
       "       'subscribed', 'job_admin.', 'job_blue-collar', 'job_entrepreneur',\n",
       "       'job_housemaid', 'job_management', 'job_retired', 'job_self-employed',\n",
       "       'job_services', 'job_student', 'job_technician', 'job_unemployed',\n",
       "       'job_unknown', 'marital_divorced', 'marital_married', 'marital_single',\n",
       "       'education_primary', 'education_secondary', 'education_tertiary',\n",
       "       'education_unknown', 'default_no', 'default_yes', 'housing_no',\n",
       "       'housing_yes', 'loan_no', 'loan_yes', 'contact_cellular',\n",
       "       'contact_telephone', 'contact_unknown', 'month_apr', 'month_aug',\n",
       "       'month_dec', 'month_feb', 'month_jan', 'month_jul', 'month_jun',\n",
       "       'month_mar', 'month_may', 'month_nov', 'month_oct', 'month_sep',\n",
       "       'poutcome_failure', 'poutcome_other', 'poutcome_success',\n",
       "       'poutcome_unknown'],\n",
       "      dtype='object')"
      ]
     },
     "execution_count": 122,
     "metadata": {},
     "output_type": "execute_result"
    }
   ],
   "source": [
    "temp.columns"
   ]
  },
  {
   "cell_type": "code",
   "execution_count": 123,
   "id": "a9629a3a",
   "metadata": {},
   "outputs": [],
   "source": [
    "originalTrain = train.copy(deep=True)"
   ]
  },
  {
   "cell_type": "code",
   "execution_count": 124,
   "id": "d5c60399",
   "metadata": {},
   "outputs": [
    {
     "name": "stdout",
     "output_type": "stream",
     "text": [
      "(31617, 16)\n",
      "(31617, 51)\n"
     ]
    }
   ],
   "source": [
    "train = temp.copy(deep=True)\n",
    "print(originalTrain.shape)\n",
    "print(train.shape)"
   ]
  },
  {
   "cell_type": "code",
   "execution_count": 125,
   "id": "44fd6f48",
   "metadata": {},
   "outputs": [
    {
     "name": "stdout",
     "output_type": "stream",
     "text": [
      "(13564, 15)\n",
      "(13564, 50)\n"
     ]
    }
   ],
   "source": [
    "temp = pd.get_dummies(test,columns=categoricalFeatures)\n",
    "originalTest = test.copy(deep=True)\n",
    "print(originalTest.shape)\n",
    "test = temp.copy(deep=True)\n",
    "print(test.shape)"
   ]
  },
  {
   "cell_type": "markdown",
   "id": "314dc7f4",
   "metadata": {},
   "source": [
    "# Model Building"
   ]
  },
  {
   "cell_type": "code",
   "execution_count": 126,
   "id": "d17ed3f3",
   "metadata": {},
   "outputs": [],
   "source": [
    "target = train['subscribed']\n",
    "train.drop(['subscribed'],axis=1,inplace=True)\n"
   ]
  },
  {
   "cell_type": "code",
   "execution_count": 127,
   "id": "3c3129cf",
   "metadata": {},
   "outputs": [
    {
     "name": "stdout",
     "output_type": "stream",
     "text": [
      "(31617,)\n",
      "(31617, 50)\n"
     ]
    }
   ],
   "source": [
    "print(target.shape)\n",
    "print(train.shape)"
   ]
  },
  {
   "cell_type": "code",
   "execution_count": 128,
   "id": "8a196742",
   "metadata": {},
   "outputs": [],
   "source": [
    "from sklearn.model_selection import train_test_split"
   ]
  },
  {
   "cell_type": "code",
   "execution_count": 129,
   "id": "c82c7bfb",
   "metadata": {},
   "outputs": [],
   "source": [
    "from sklearn.linear_model import LogisticRegression"
   ]
  },
  {
   "cell_type": "code",
   "execution_count": 131,
   "id": "c6b108fb",
   "metadata": {},
   "outputs": [],
   "source": [
    "xTrain, xVal, yTrain, yVal = train_test_split(train, target, test_size = 0.2, random_state=12)"
   ]
  },
  {
   "cell_type": "code",
   "execution_count": 146,
   "id": "b8b71310",
   "metadata": {},
   "outputs": [
    {
     "data": {
      "text/plain": [
       "LogisticRegression(max_iter=2030)"
      ]
     },
     "execution_count": 146,
     "metadata": {},
     "output_type": "execute_result"
    }
   ],
   "source": [
    "lreg = LogisticRegression(max_iter=2030)\n",
    "lreg.fit(xTrain,yTrain)"
   ]
  },
  {
   "cell_type": "code",
   "execution_count": 147,
   "id": "440a41a1",
   "metadata": {},
   "outputs": [],
   "source": [
    "prediction = lreg.predict(xVal)"
   ]
  },
  {
   "cell_type": "code",
   "execution_count": 148,
   "id": "c9880deb",
   "metadata": {},
   "outputs": [
    {
     "data": {
      "text/plain": [
       "0.896584440227704"
      ]
     },
     "execution_count": 148,
     "metadata": {},
     "output_type": "execute_result"
    }
   ],
   "source": [
    "from sklearn.metrics import accuracy_score\n",
    "accuracy_score(yVal, prediction)"
   ]
  },
  {
   "cell_type": "markdown",
   "id": "76e5e6bd",
   "metadata": {},
   "source": [
    "# Decision Tree"
   ]
  },
  {
   "cell_type": "code",
   "execution_count": 149,
   "id": "d950d3b4",
   "metadata": {},
   "outputs": [],
   "source": [
    "from sklearn.tree import DecisionTreeClassifier\n",
    "clf = DecisionTreeClassifier(max_depth=4, random_state=0)"
   ]
  },
  {
   "cell_type": "code",
   "execution_count": 150,
   "id": "cdb12d21",
   "metadata": {},
   "outputs": [
    {
     "data": {
      "text/plain": [
       "DecisionTreeClassifier(max_depth=4, random_state=0)"
      ]
     },
     "execution_count": 150,
     "metadata": {},
     "output_type": "execute_result"
    }
   ],
   "source": [
    "clf.fit(X_train,y_train)"
   ]
  },
  {
   "cell_type": "code",
   "execution_count": 151,
   "id": "b7c24bbb",
   "metadata": {},
   "outputs": [],
   "source": [
    "predict = clf.predict(X_val)"
   ]
  },
  {
   "cell_type": "code",
   "execution_count": 152,
   "id": "3b3eabd4",
   "metadata": {},
   "outputs": [
    {
     "data": {
      "text/plain": [
       "0.8950031625553447"
      ]
     },
     "execution_count": 152,
     "metadata": {},
     "output_type": "execute_result"
    }
   ],
   "source": [
    "accuracy_score(y_val, predict)"
   ]
  },
  {
   "cell_type": "code",
   "execution_count": 153,
   "id": "a556160d",
   "metadata": {},
   "outputs": [],
   "source": [
    "testLregPrediction = lreg.predict(test)"
   ]
  },
  {
   "cell_type": "code",
   "execution_count": 154,
   "id": "22748dea",
   "metadata": {},
   "outputs": [],
   "source": [
    "testDtreePrediction = clf.predict(test)"
   ]
  },
  {
   "cell_type": "code",
   "execution_count": 155,
   "id": "8743cf21",
   "metadata": {},
   "outputs": [],
   "source": [
    "sub1 = pd.DataFrame()\n",
    "sub2 = pd.DataFrame()"
   ]
  },
  {
   "cell_type": "code",
   "execution_count": 156,
   "id": "1fcbea99",
   "metadata": {},
   "outputs": [],
   "source": [
    "#sub1['ID'] = test['ID']\n",
    "sub1['subscribed'] = testLregPrediction\n",
    "sub2['subscribed'] = testDtreePrediction"
   ]
  },
  {
   "cell_type": "code",
   "execution_count": 157,
   "id": "8de6fddf",
   "metadata": {},
   "outputs": [],
   "source": [
    "sub1['subscribed'].replace(0,'no',inplace=True)\n",
    "sub1['subscribed'].replace(1,'yes',inplace=True)\n",
    "sub2['subscribed'].replace(0,'no',inplace=True)\n",
    "sub2['subscribed'].replace(1,'yes',inplace=True)"
   ]
  },
  {
   "cell_type": "code",
   "execution_count": 158,
   "id": "c8d1a58e",
   "metadata": {},
   "outputs": [],
   "source": [
    "sub1.to_csv('submission1.csv', header=True, index=False)\n",
    "sub2.to_csv('submission2.csv', header=True, index=False)"
   ]
  },
  {
   "cell_type": "code",
   "execution_count": null,
   "id": "896652de",
   "metadata": {},
   "outputs": [],
   "source": []
  }
 ],
 "metadata": {
  "kernelspec": {
   "display_name": "Python 3 (ipykernel)",
   "language": "python",
   "name": "python3"
  },
  "language_info": {
   "codemirror_mode": {
    "name": "ipython",
    "version": 3
   },
   "file_extension": ".py",
   "mimetype": "text/x-python",
   "name": "python",
   "nbconvert_exporter": "python",
   "pygments_lexer": "ipython3",
   "version": "3.9.7"
  }
 },
 "nbformat": 4,
 "nbformat_minor": 5
}
